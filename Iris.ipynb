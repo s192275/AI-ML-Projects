{
 "cells": [
  {
   "cell_type": "code",
   "execution_count": 1,
   "id": "033ecbd7",
   "metadata": {},
   "outputs": [],
   "source": [
    "import matplotlib.pyplot as plt\n",
    "import seaborn as sns\n",
    "import numpy as np\n",
    "import pandas as pd\n",
    "from sklearn.datasets import load_iris\n",
    "from sklearn.neighbors import KNeighborsClassifier\n",
    "from sklearn.preprocessing import StandardScaler\n",
    "from sklearn.model_selection import cross_val_score, GridSearchCV\n",
    "from sklearn.model_selection import train_test_split"
   ]
  },
  {
   "cell_type": "code",
   "execution_count": 2,
   "id": "bbdfdc36",
   "metadata": {},
   "outputs": [],
   "source": [
    "iris = sns.load_dataset(\"iris\")"
   ]
  },
  {
   "cell_type": "code",
   "execution_count": 3,
   "id": "84a647ee",
   "metadata": {},
   "outputs": [],
   "source": [
    "iris = pd.DataFrame(iris)"
   ]
  },
  {
   "cell_type": "code",
   "execution_count": 4,
   "id": "d503a230",
   "metadata": {},
   "outputs": [],
   "source": [
    "def explore_dataset(data):\n",
    "    print('########## SHAPE ##########')\n",
    "    print(data.shape)\n",
    "    print('########## HEAD ###########')\n",
    "    print(data.head())\n",
    "    print('########## TAIL ##########')\n",
    "    print(data.tail())\n",
    "    print('########## INFO ##########')\n",
    "    print(data.info())\n",
    "    print('########## DESCRIBE ##########')\n",
    "    print(data.describe())"
   ]
  },
  {
   "cell_type": "code",
   "execution_count": 5,
   "id": "6c2c66c2",
   "metadata": {},
   "outputs": [
    {
     "name": "stdout",
     "output_type": "stream",
     "text": [
      "########## SHAPE ##########\n",
      "(150, 5)\n",
      "########## HEAD ###########\n",
      "   sepal_length  sepal_width  petal_length  petal_width species\n",
      "0           5.1          3.5           1.4          0.2  setosa\n",
      "1           4.9          3.0           1.4          0.2  setosa\n",
      "2           4.7          3.2           1.3          0.2  setosa\n",
      "3           4.6          3.1           1.5          0.2  setosa\n",
      "4           5.0          3.6           1.4          0.2  setosa\n",
      "########## TAIL ##########\n",
      "     sepal_length  sepal_width  petal_length  petal_width    species\n",
      "145           6.7          3.0           5.2          2.3  virginica\n",
      "146           6.3          2.5           5.0          1.9  virginica\n",
      "147           6.5          3.0           5.2          2.0  virginica\n",
      "148           6.2          3.4           5.4          2.3  virginica\n",
      "149           5.9          3.0           5.1          1.8  virginica\n",
      "########## INFO ##########\n",
      "<class 'pandas.core.frame.DataFrame'>\n",
      "RangeIndex: 150 entries, 0 to 149\n",
      "Data columns (total 5 columns):\n",
      " #   Column        Non-Null Count  Dtype  \n",
      "---  ------        --------------  -----  \n",
      " 0   sepal_length  150 non-null    float64\n",
      " 1   sepal_width   150 non-null    float64\n",
      " 2   petal_length  150 non-null    float64\n",
      " 3   petal_width   150 non-null    float64\n",
      " 4   species       150 non-null    object \n",
      "dtypes: float64(4), object(1)\n",
      "memory usage: 6.0+ KB\n",
      "None\n",
      "########## DESCRIBE ##########\n",
      "       sepal_length  sepal_width  petal_length  petal_width\n",
      "count    150.000000   150.000000    150.000000   150.000000\n",
      "mean       5.843333     3.057333      3.758000     1.199333\n",
      "std        0.828066     0.435866      1.765298     0.762238\n",
      "min        4.300000     2.000000      1.000000     0.100000\n",
      "25%        5.100000     2.800000      1.600000     0.300000\n",
      "50%        5.800000     3.000000      4.350000     1.300000\n",
      "75%        6.400000     3.300000      5.100000     1.800000\n",
      "max        7.900000     4.400000      6.900000     2.500000\n"
     ]
    }
   ],
   "source": [
    "explore_dataset(iris)"
   ]
  },
  {
   "cell_type": "code",
   "execution_count": 6,
   "id": "998faecc",
   "metadata": {},
   "outputs": [],
   "source": [
    "iris['new_sepal_length_width'] = iris['sepal_length'] / iris['sepal_width']\n",
    "iris['new_petal_length_width'] = iris['petal_length'] / iris['petal_width']"
   ]
  },
  {
   "cell_type": "code",
   "execution_count": 7,
   "id": "6f0f6959",
   "metadata": {},
   "outputs": [
    {
     "data": {
      "text/html": [
       "<div>\n",
       "<style scoped>\n",
       "    .dataframe tbody tr th:only-of-type {\n",
       "        vertical-align: middle;\n",
       "    }\n",
       "\n",
       "    .dataframe tbody tr th {\n",
       "        vertical-align: top;\n",
       "    }\n",
       "\n",
       "    .dataframe thead th {\n",
       "        text-align: right;\n",
       "    }\n",
       "</style>\n",
       "<table border=\"1\" class=\"dataframe\">\n",
       "  <thead>\n",
       "    <tr style=\"text-align: right;\">\n",
       "      <th></th>\n",
       "      <th>sepal_length</th>\n",
       "      <th>sepal_width</th>\n",
       "      <th>petal_length</th>\n",
       "      <th>petal_width</th>\n",
       "      <th>species</th>\n",
       "      <th>new_sepal_length_width</th>\n",
       "      <th>new_petal_length_width</th>\n",
       "    </tr>\n",
       "  </thead>\n",
       "  <tbody>\n",
       "    <tr>\n",
       "      <th>0</th>\n",
       "      <td>5.1</td>\n",
       "      <td>3.5</td>\n",
       "      <td>1.4</td>\n",
       "      <td>0.2</td>\n",
       "      <td>setosa</td>\n",
       "      <td>1.457143</td>\n",
       "      <td>7.000000</td>\n",
       "    </tr>\n",
       "    <tr>\n",
       "      <th>1</th>\n",
       "      <td>4.9</td>\n",
       "      <td>3.0</td>\n",
       "      <td>1.4</td>\n",
       "      <td>0.2</td>\n",
       "      <td>setosa</td>\n",
       "      <td>1.633333</td>\n",
       "      <td>7.000000</td>\n",
       "    </tr>\n",
       "    <tr>\n",
       "      <th>2</th>\n",
       "      <td>4.7</td>\n",
       "      <td>3.2</td>\n",
       "      <td>1.3</td>\n",
       "      <td>0.2</td>\n",
       "      <td>setosa</td>\n",
       "      <td>1.468750</td>\n",
       "      <td>6.500000</td>\n",
       "    </tr>\n",
       "    <tr>\n",
       "      <th>3</th>\n",
       "      <td>4.6</td>\n",
       "      <td>3.1</td>\n",
       "      <td>1.5</td>\n",
       "      <td>0.2</td>\n",
       "      <td>setosa</td>\n",
       "      <td>1.483871</td>\n",
       "      <td>7.500000</td>\n",
       "    </tr>\n",
       "    <tr>\n",
       "      <th>4</th>\n",
       "      <td>5.0</td>\n",
       "      <td>3.6</td>\n",
       "      <td>1.4</td>\n",
       "      <td>0.2</td>\n",
       "      <td>setosa</td>\n",
       "      <td>1.388889</td>\n",
       "      <td>7.000000</td>\n",
       "    </tr>\n",
       "    <tr>\n",
       "      <th>...</th>\n",
       "      <td>...</td>\n",
       "      <td>...</td>\n",
       "      <td>...</td>\n",
       "      <td>...</td>\n",
       "      <td>...</td>\n",
       "      <td>...</td>\n",
       "      <td>...</td>\n",
       "    </tr>\n",
       "    <tr>\n",
       "      <th>145</th>\n",
       "      <td>6.7</td>\n",
       "      <td>3.0</td>\n",
       "      <td>5.2</td>\n",
       "      <td>2.3</td>\n",
       "      <td>virginica</td>\n",
       "      <td>2.233333</td>\n",
       "      <td>2.260870</td>\n",
       "    </tr>\n",
       "    <tr>\n",
       "      <th>146</th>\n",
       "      <td>6.3</td>\n",
       "      <td>2.5</td>\n",
       "      <td>5.0</td>\n",
       "      <td>1.9</td>\n",
       "      <td>virginica</td>\n",
       "      <td>2.520000</td>\n",
       "      <td>2.631579</td>\n",
       "    </tr>\n",
       "    <tr>\n",
       "      <th>147</th>\n",
       "      <td>6.5</td>\n",
       "      <td>3.0</td>\n",
       "      <td>5.2</td>\n",
       "      <td>2.0</td>\n",
       "      <td>virginica</td>\n",
       "      <td>2.166667</td>\n",
       "      <td>2.600000</td>\n",
       "    </tr>\n",
       "    <tr>\n",
       "      <th>148</th>\n",
       "      <td>6.2</td>\n",
       "      <td>3.4</td>\n",
       "      <td>5.4</td>\n",
       "      <td>2.3</td>\n",
       "      <td>virginica</td>\n",
       "      <td>1.823529</td>\n",
       "      <td>2.347826</td>\n",
       "    </tr>\n",
       "    <tr>\n",
       "      <th>149</th>\n",
       "      <td>5.9</td>\n",
       "      <td>3.0</td>\n",
       "      <td>5.1</td>\n",
       "      <td>1.8</td>\n",
       "      <td>virginica</td>\n",
       "      <td>1.966667</td>\n",
       "      <td>2.833333</td>\n",
       "    </tr>\n",
       "  </tbody>\n",
       "</table>\n",
       "<p>150 rows × 7 columns</p>\n",
       "</div>"
      ],
      "text/plain": [
       "     sepal_length  sepal_width  petal_length  petal_width    species  \\\n",
       "0             5.1          3.5           1.4          0.2     setosa   \n",
       "1             4.9          3.0           1.4          0.2     setosa   \n",
       "2             4.7          3.2           1.3          0.2     setosa   \n",
       "3             4.6          3.1           1.5          0.2     setosa   \n",
       "4             5.0          3.6           1.4          0.2     setosa   \n",
       "..            ...          ...           ...          ...        ...   \n",
       "145           6.7          3.0           5.2          2.3  virginica   \n",
       "146           6.3          2.5           5.0          1.9  virginica   \n",
       "147           6.5          3.0           5.2          2.0  virginica   \n",
       "148           6.2          3.4           5.4          2.3  virginica   \n",
       "149           5.9          3.0           5.1          1.8  virginica   \n",
       "\n",
       "     new_sepal_length_width  new_petal_length_width  \n",
       "0                  1.457143                7.000000  \n",
       "1                  1.633333                7.000000  \n",
       "2                  1.468750                6.500000  \n",
       "3                  1.483871                7.500000  \n",
       "4                  1.388889                7.000000  \n",
       "..                      ...                     ...  \n",
       "145                2.233333                2.260870  \n",
       "146                2.520000                2.631579  \n",
       "147                2.166667                2.600000  \n",
       "148                1.823529                2.347826  \n",
       "149                1.966667                2.833333  \n",
       "\n",
       "[150 rows x 7 columns]"
      ]
     },
     "execution_count": 7,
     "metadata": {},
     "output_type": "execute_result"
    }
   ],
   "source": [
    "iris"
   ]
  },
  {
   "cell_type": "code",
   "execution_count": 8,
   "id": "c8c75541",
   "metadata": {},
   "outputs": [],
   "source": [
    "def grab_col_names(data, cat_th=10, car_th=20):\n",
    "    cat_cols = [col for col in data.columns if data[col].dtype == 'O']\n",
    "    cat_but_num = [col for col in data.columns if data[col].dtype == 'O' and data[col].nunique() > cat_th]\n",
    "    num_but_cat = [col for col in data.columns if data[col].dtype != 'O' and data[col].nunique() < cat_th]\n",
    "    cat_cols = cat_cols + num_but_cat\n",
    "    cat_cols = [col for col in cat_cols if col not in cat_but_num]\n",
    "    \n",
    "    num_cols = [col for col in data.columns if data[col].dtype != 'O']\n",
    "    num_cols = [col for col in num_cols if col not in num_but_cat]\n",
    "    \n",
    "    return cat_cols, cat_but_num, num_cols"
   ]
  },
  {
   "cell_type": "code",
   "execution_count": 9,
   "id": "b320a467",
   "metadata": {},
   "outputs": [],
   "source": [
    "cat_cols, cat_but_num, num_cols = grab_col_names(iris)"
   ]
  },
  {
   "cell_type": "code",
   "execution_count": 10,
   "id": "0991320b",
   "metadata": {},
   "outputs": [
    {
     "data": {
      "text/plain": [
       "['species']"
      ]
     },
     "execution_count": 10,
     "metadata": {},
     "output_type": "execute_result"
    }
   ],
   "source": [
    "cat_cols"
   ]
  },
  {
   "cell_type": "code",
   "execution_count": 11,
   "id": "08902873",
   "metadata": {},
   "outputs": [
    {
     "data": {
      "text/plain": [
       "[]"
      ]
     },
     "execution_count": 11,
     "metadata": {},
     "output_type": "execute_result"
    }
   ],
   "source": [
    "cat_but_num"
   ]
  },
  {
   "cell_type": "code",
   "execution_count": 12,
   "id": "34d208e9",
   "metadata": {},
   "outputs": [
    {
     "data": {
      "text/plain": [
       "['sepal_length',\n",
       " 'sepal_width',\n",
       " 'petal_length',\n",
       " 'petal_width',\n",
       " 'new_sepal_length_width',\n",
       " 'new_petal_length_width']"
      ]
     },
     "execution_count": 12,
     "metadata": {},
     "output_type": "execute_result"
    }
   ],
   "source": [
    "num_cols"
   ]
  },
  {
   "cell_type": "code",
   "execution_count": 13,
   "id": "93baa1a2",
   "metadata": {},
   "outputs": [],
   "source": [
    "def interquantile(data, col_name, q1 = 0.05, q3 = 0.95):\n",
    "    q_1 = data[col_name].quantile(q1)\n",
    "    q_3 = data[col_name].quantile(q3)\n",
    "    q_2 = q_1 - q_3\n",
    "    down = q_1 - 1.5 * q_2\n",
    "    up = q_3 + 1.5 * q_2\n",
    "    return down, up"
   ]
  },
  {
   "cell_type": "code",
   "execution_count": 14,
   "id": "8f46f310",
   "metadata": {},
   "outputs": [
    {
     "name": "stdout",
     "output_type": "stream",
     "text": [
      "sepal_length columns interquantile range is : (8.582499999999998, 3.2725000000000004)\n",
      "sepal_width columns interquantile range is : (4.5275, 1.6174999999999997)\n",
      "petal_length columns interquantile range is : (8.5, -1.0999999999999996)\n",
      "petal_width columns interquantile range is : (3.3499999999999996, -0.8499999999999996)\n",
      "new_sepal_length_width columns interquantile range is : (3.23454831932773, 0.7306407563025212)\n",
      "new_petal_length_width columns interquantile range is : (10.814347826086957, -0.4430434782608703)\n"
     ]
    }
   ],
   "source": [
    "for col in num_cols:\n",
    "    print(f'{col} columns interquantile range is : {interquantile(iris,col)}')"
   ]
  },
  {
   "cell_type": "code",
   "execution_count": 15,
   "id": "d58daf95",
   "metadata": {},
   "outputs": [],
   "source": [
    "def check_interquantile(data, col_name, q1=0.05, q3=0.95):\n",
    "    down, up = interquantile(data, col_name, q1, q3)\n",
    "    if data[(data[col] < down) | (data[col] > up)].any(None):\n",
    "        return True\n",
    "    else:\n",
    "        return False"
   ]
  },
  {
   "cell_type": "code",
   "execution_count": 16,
   "id": "1d8ac5e0",
   "metadata": {},
   "outputs": [
    {
     "name": "stdout",
     "output_type": "stream",
     "text": [
      "sepal_length columns has any outlier ? : True\n",
      "sepal_width columns has any outlier ? : True\n",
      "petal_length columns has any outlier ? : True\n",
      "petal_width columns has any outlier ? : True\n",
      "new_sepal_length_width columns has any outlier ? : True\n",
      "new_petal_length_width columns has any outlier ? : True\n"
     ]
    },
    {
     "name": "stderr",
     "output_type": "stream",
     "text": [
      "C:\\Users\\s7522\\AppData\\Local\\Temp\\ipykernel_884\\1272339770.py:3: FutureWarning: In a future version of pandas all arguments of DataFrame.any and Series.any will be keyword-only.\n",
      "  if data[(data[col] < down) | (data[col] > up)].any(None):\n",
      "C:\\Users\\s7522\\AppData\\Local\\Temp\\ipykernel_884\\1272339770.py:3: FutureWarning: In a future version of pandas all arguments of DataFrame.any and Series.any will be keyword-only.\n",
      "  if data[(data[col] < down) | (data[col] > up)].any(None):\n",
      "C:\\Users\\s7522\\AppData\\Local\\Temp\\ipykernel_884\\1272339770.py:3: FutureWarning: In a future version of pandas all arguments of DataFrame.any and Series.any will be keyword-only.\n",
      "  if data[(data[col] < down) | (data[col] > up)].any(None):\n",
      "C:\\Users\\s7522\\AppData\\Local\\Temp\\ipykernel_884\\1272339770.py:3: FutureWarning: In a future version of pandas all arguments of DataFrame.any and Series.any will be keyword-only.\n",
      "  if data[(data[col] < down) | (data[col] > up)].any(None):\n",
      "C:\\Users\\s7522\\AppData\\Local\\Temp\\ipykernel_884\\1272339770.py:3: FutureWarning: In a future version of pandas all arguments of DataFrame.any and Series.any will be keyword-only.\n",
      "  if data[(data[col] < down) | (data[col] > up)].any(None):\n",
      "C:\\Users\\s7522\\AppData\\Local\\Temp\\ipykernel_884\\1272339770.py:3: FutureWarning: In a future version of pandas all arguments of DataFrame.any and Series.any will be keyword-only.\n",
      "  if data[(data[col] < down) | (data[col] > up)].any(None):\n"
     ]
    }
   ],
   "source": [
    "for col in num_cols:\n",
    "    print(f'{col} columns has any outlier ? : {check_interquantile(iris, col,q1=0.05, q3=0.95)}')"
   ]
  },
  {
   "cell_type": "code",
   "execution_count": 17,
   "id": "8fbe4873",
   "metadata": {},
   "outputs": [
    {
     "data": {
      "text/html": [
       "<div>\n",
       "<style scoped>\n",
       "    .dataframe tbody tr th:only-of-type {\n",
       "        vertical-align: middle;\n",
       "    }\n",
       "\n",
       "    .dataframe tbody tr th {\n",
       "        vertical-align: top;\n",
       "    }\n",
       "\n",
       "    .dataframe thead th {\n",
       "        text-align: right;\n",
       "    }\n",
       "</style>\n",
       "<table border=\"1\" class=\"dataframe\">\n",
       "  <thead>\n",
       "    <tr style=\"text-align: right;\">\n",
       "      <th></th>\n",
       "      <th>sepal_length</th>\n",
       "      <th>sepal_width</th>\n",
       "      <th>petal_length</th>\n",
       "      <th>petal_width</th>\n",
       "      <th>species</th>\n",
       "      <th>new_sepal_length_width</th>\n",
       "      <th>new_petal_length_width</th>\n",
       "    </tr>\n",
       "  </thead>\n",
       "  <tbody>\n",
       "    <tr>\n",
       "      <th>0</th>\n",
       "      <td>5.1</td>\n",
       "      <td>3.5</td>\n",
       "      <td>1.4</td>\n",
       "      <td>0.2</td>\n",
       "      <td>setosa</td>\n",
       "      <td>1.457143</td>\n",
       "      <td>7.000000</td>\n",
       "    </tr>\n",
       "    <tr>\n",
       "      <th>1</th>\n",
       "      <td>4.9</td>\n",
       "      <td>3.0</td>\n",
       "      <td>1.4</td>\n",
       "      <td>0.2</td>\n",
       "      <td>setosa</td>\n",
       "      <td>1.633333</td>\n",
       "      <td>7.000000</td>\n",
       "    </tr>\n",
       "    <tr>\n",
       "      <th>2</th>\n",
       "      <td>4.7</td>\n",
       "      <td>3.2</td>\n",
       "      <td>1.3</td>\n",
       "      <td>0.2</td>\n",
       "      <td>setosa</td>\n",
       "      <td>1.468750</td>\n",
       "      <td>6.500000</td>\n",
       "    </tr>\n",
       "    <tr>\n",
       "      <th>3</th>\n",
       "      <td>4.6</td>\n",
       "      <td>3.1</td>\n",
       "      <td>1.5</td>\n",
       "      <td>0.2</td>\n",
       "      <td>setosa</td>\n",
       "      <td>1.483871</td>\n",
       "      <td>7.500000</td>\n",
       "    </tr>\n",
       "    <tr>\n",
       "      <th>4</th>\n",
       "      <td>5.0</td>\n",
       "      <td>3.6</td>\n",
       "      <td>1.4</td>\n",
       "      <td>0.2</td>\n",
       "      <td>setosa</td>\n",
       "      <td>1.388889</td>\n",
       "      <td>7.000000</td>\n",
       "    </tr>\n",
       "    <tr>\n",
       "      <th>...</th>\n",
       "      <td>...</td>\n",
       "      <td>...</td>\n",
       "      <td>...</td>\n",
       "      <td>...</td>\n",
       "      <td>...</td>\n",
       "      <td>...</td>\n",
       "      <td>...</td>\n",
       "    </tr>\n",
       "    <tr>\n",
       "      <th>145</th>\n",
       "      <td>6.7</td>\n",
       "      <td>3.0</td>\n",
       "      <td>5.2</td>\n",
       "      <td>2.3</td>\n",
       "      <td>virginica</td>\n",
       "      <td>2.233333</td>\n",
       "      <td>2.260870</td>\n",
       "    </tr>\n",
       "    <tr>\n",
       "      <th>146</th>\n",
       "      <td>6.3</td>\n",
       "      <td>2.5</td>\n",
       "      <td>5.0</td>\n",
       "      <td>1.9</td>\n",
       "      <td>virginica</td>\n",
       "      <td>2.520000</td>\n",
       "      <td>2.631579</td>\n",
       "    </tr>\n",
       "    <tr>\n",
       "      <th>147</th>\n",
       "      <td>6.5</td>\n",
       "      <td>3.0</td>\n",
       "      <td>5.2</td>\n",
       "      <td>2.0</td>\n",
       "      <td>virginica</td>\n",
       "      <td>2.166667</td>\n",
       "      <td>2.600000</td>\n",
       "    </tr>\n",
       "    <tr>\n",
       "      <th>148</th>\n",
       "      <td>6.2</td>\n",
       "      <td>3.4</td>\n",
       "      <td>5.4</td>\n",
       "      <td>2.3</td>\n",
       "      <td>virginica</td>\n",
       "      <td>1.823529</td>\n",
       "      <td>2.347826</td>\n",
       "    </tr>\n",
       "    <tr>\n",
       "      <th>149</th>\n",
       "      <td>5.9</td>\n",
       "      <td>3.0</td>\n",
       "      <td>5.1</td>\n",
       "      <td>1.8</td>\n",
       "      <td>virginica</td>\n",
       "      <td>1.966667</td>\n",
       "      <td>2.833333</td>\n",
       "    </tr>\n",
       "  </tbody>\n",
       "</table>\n",
       "<p>150 rows × 7 columns</p>\n",
       "</div>"
      ],
      "text/plain": [
       "     sepal_length  sepal_width  petal_length  petal_width    species  \\\n",
       "0             5.1          3.5           1.4          0.2     setosa   \n",
       "1             4.9          3.0           1.4          0.2     setosa   \n",
       "2             4.7          3.2           1.3          0.2     setosa   \n",
       "3             4.6          3.1           1.5          0.2     setosa   \n",
       "4             5.0          3.6           1.4          0.2     setosa   \n",
       "..            ...          ...           ...          ...        ...   \n",
       "145           6.7          3.0           5.2          2.3  virginica   \n",
       "146           6.3          2.5           5.0          1.9  virginica   \n",
       "147           6.5          3.0           5.2          2.0  virginica   \n",
       "148           6.2          3.4           5.4          2.3  virginica   \n",
       "149           5.9          3.0           5.1          1.8  virginica   \n",
       "\n",
       "     new_sepal_length_width  new_petal_length_width  \n",
       "0                  1.457143                7.000000  \n",
       "1                  1.633333                7.000000  \n",
       "2                  1.468750                6.500000  \n",
       "3                  1.483871                7.500000  \n",
       "4                  1.388889                7.000000  \n",
       "..                      ...                     ...  \n",
       "145                2.233333                2.260870  \n",
       "146                2.520000                2.631579  \n",
       "147                2.166667                2.600000  \n",
       "148                1.823529                2.347826  \n",
       "149                1.966667                2.833333  \n",
       "\n",
       "[150 rows x 7 columns]"
      ]
     },
     "execution_count": 17,
     "metadata": {},
     "output_type": "execute_result"
    }
   ],
   "source": [
    "iris"
   ]
  },
  {
   "cell_type": "code",
   "execution_count": 18,
   "id": "36953e30",
   "metadata": {},
   "outputs": [
    {
     "name": "stdout",
     "output_type": "stream",
     "text": [
      "[-0.98160082 -0.98180032 -0.98447623 -0.99601674 -0.98204601 -1.1325368\n",
      " -1.126435   -0.99166106 -1.00919225 -4.61949285 -0.99867533 -0.98372419\n",
      " -4.13224251 -2.73785071 -1.17337145 -1.20557759 -1.28812905 -1.12645544\n",
      " -1.15183194 -1.12896218 -1.15843513 -1.1622378  -1.11119389 -1.24905647\n",
      " -1.67815124 -0.99419985 -1.14359367 -0.99893081 -0.97285083 -0.99005663\n",
      " -0.98904978 -1.17871085 -4.62858501 -1.01091524 -0.99175331 -1.04057469\n",
      " -0.98787731 -4.12903702 -1.0310538  -0.99763973 -1.12218078 -1.21767953\n",
      " -1.01675211 -1.31495811 -1.13188229 -1.12744837 -1.01318324 -0.98428621\n",
      " -0.99840863 -0.97499821 -1.11953602 -0.99796717 -1.0558189  -1.05449077\n",
      " -0.99698115 -0.96154011 -0.96480155 -1.29309132 -1.03344563 -1.09374477\n",
      " -1.32393899 -0.97607202 -1.24809546 -0.97696725 -1.07364265 -1.02077135\n",
      " -0.97289216 -1.14253384 -1.20164093 -1.04445586 -1.00754683 -0.95479193\n",
      " -1.02319522 -1.09106424 -0.98932953 -0.99630584 -1.05575323 -0.99858662\n",
      " -0.95866348 -1.09299384 -1.07451312 -1.12737421 -0.98663479 -0.98795922\n",
      " -1.01451656 -1.02288047 -0.99888975 -1.1223846  -0.98329509 -0.99477046\n",
      " -1.00587753 -0.97045432 -0.98574539 -1.27604583 -0.97201899 -0.97179937\n",
      " -0.96851433 -0.95611031 -1.43403991 -0.98554172 -1.0983136  -1.02717343\n",
      " -1.05070709 -0.97710521 -1.00401791 -1.33075903 -1.31706155 -1.31928113\n",
      " -1.14649093 -1.17873786 -0.97057339 -0.96567495 -0.98221834 -1.09814119\n",
      " -1.12958866 -1.0114108  -0.96155334 -1.43410211 -1.5532931  -1.2101189\n",
      " -1.01633303 -1.10103286 -1.46444045 -0.96879369 -1.00225586 -1.18231978\n",
      " -0.97202996 -0.98691667 -0.97203468 -1.26129159 -1.28388667 -1.4512018\n",
      " -1.00557466 -1.00974853 -1.38487442 -1.21995436 -1.03627251 -0.96266621\n",
      " -0.99410995 -0.98042897 -1.01044813 -1.02998684 -1.02717343 -1.02851674\n",
      " -1.02978766 -0.99833026 -1.00324584 -0.97278955 -1.03164793 -1.01035162]\n"
     ]
    }
   ],
   "source": [
    "from sklearn.neighbors import LocalOutlierFactor\n",
    "lof = LocalOutlierFactor(n_neighbors=20)\n",
    "outlier_scores = lof.fit_predict(iris[num_cols])\n",
    "df_scores = lof.negative_outlier_factor_\n",
    "\n",
    "print(df_scores)"
   ]
  },
  {
   "cell_type": "code",
   "execution_count": 19,
   "id": "53c48e14",
   "metadata": {},
   "outputs": [
    {
     "data": {
      "image/png": "[encoded data removed]",
      "text/plain": [
       "<Figure size 640x480 with 1 Axes>"
      ]
     },
     "metadata": {},
     "output_type": "display_data"
    }
   ],
   "source": [
    "scores = pd.DataFrame(np.sort(df_scores))\n",
    "scores.plot(stacked=True, xlim=[0, 50], style='.-')\n",
    "plt.show()"
   ]
  },
  {
   "cell_type": "code",
   "execution_count": 20,
   "id": "de6727e2",
   "metadata": {},
   "outputs": [
    {
     "name": "stdout",
     "output_type": "stream",
     "text": [
      "Int64Index([9, 12, 13, 24, 32, 37], dtype='int64')\n"
     ]
    }
   ],
   "source": [
    "th = np.sort(df_scores)[6]\n",
    "lof_drop_index = iris[df_scores < th].index\n",
    "iris.drop(lof_drop_index, inplace=True)\n",
    "print(lof_drop_index)"
   ]
  },
  {
   "cell_type": "code",
   "execution_count": 21,
   "id": "5dbb04e7",
   "metadata": {},
   "outputs": [],
   "source": [
    "def cat_summary(dataframe, cat_col, plot=False):\n",
    "    print(pd.DataFrame({cat_col: dataframe[cat_col].value_counts(),\n",
    "                        \"Ratio\": 100 * dataframe[cat_col].value_counts() / len(dataframe)}))\n",
    "    print(\"##########################################\")\n",
    "    if plot:\n",
    "        sns.countplot(x=dataframe[cat_col], data=dataframe)\n",
    "        plt.show(block=True)\n",
    "\n",
    "def num_summary(dataframe, numerical_col, plot=False):\n",
    "    quantiles = [0.05, 0.10, 0.20, 0.30, 0.40, 0.50, 0.60, 0.70, 0.80, 0.90, 0.95, 0.99]\n",
    "    print(dataframe[numerical_col].describe(quantiles).T)\n",
    "\n",
    "    if plot:\n",
    "        dataframe[numerical_col].hist(bins=20)\n",
    "        plt.xlabel(numerical_col)\n",
    "        plt.title(numerical_col)\n",
    "        plt.show(block=True)"
   ]
  },
  {
   "cell_type": "code",
   "execution_count": 22,
   "id": "b4f54c2f",
   "metadata": {},
   "outputs": [
    {
     "name": "stdout",
     "output_type": "stream",
     "text": [
      "count    144.000000\n",
      "mean       5.886111\n",
      "std        0.815721\n",
      "min        4.400000\n",
      "5%         4.615000\n",
      "10%        4.900000\n",
      "20%        5.100000\n",
      "30%        5.400000\n",
      "40%        5.600000\n",
      "50%        5.800000\n",
      "60%        6.100000\n",
      "70%        6.300000\n",
      "80%        6.600000\n",
      "90%        6.900000\n",
      "95%        7.285000\n",
      "99%        7.700000\n",
      "max        7.900000\n",
      "Name: sepal_length, dtype: float64\n"
     ]
    },
    {
     "data": {
      "image/png": "[encoded data removed]",
      "text/plain": [
       "<Figure size 640x480 with 1 Axes>"
      ]
     },
     "metadata": {},
     "output_type": "display_data"
    },
    {
     "name": "stdout",
     "output_type": "stream",
     "text": [
      "count    144.000000\n",
      "mean       3.044444\n",
      "std        0.432714\n",
      "min        2.000000\n",
      "5%         2.315000\n",
      "10%        2.500000\n",
      "20%        2.700000\n",
      "30%        2.800000\n",
      "40%        3.000000\n",
      "50%        3.000000\n",
      "60%        3.100000\n",
      "70%        3.200000\n",
      "80%        3.400000\n",
      "90%        3.600000\n",
      "95%        3.800000\n",
      "99%        4.114000\n",
      "max        4.400000\n",
      "Name: sepal_width, dtype: float64\n"
     ]
    },
    {
     "data": {
      "image/png": "[encoded data removed]",
      "text/plain": [
       "<Figure size 640x480 with 1 Axes>"
      ]
     },
     "metadata": {},
     "output_type": "display_data"
    },
    {
     "name": "stdout",
     "output_type": "stream",
     "text": [
      "count    144.000000\n",
      "mean       3.853472\n",
      "std        1.736443\n",
      "min        1.000000\n",
      "5%         1.300000\n",
      "10%        1.400000\n",
      "20%        1.500000\n",
      "30%        1.880000\n",
      "40%        4.000000\n",
      "50%        4.400000\n",
      "60%        4.700000\n",
      "70%        5.000000\n",
      "80%        5.400000\n",
      "90%        5.800000\n",
      "95%        6.100000\n",
      "99%        6.700000\n",
      "max        6.900000\n",
      "Name: petal_length, dtype: float64\n"
     ]
    },
    {
     "data": {
      "image/png": "[encoded data removed]",
      "text/plain": [
       "<Figure size 640x480 with 1 Axes>"
      ]
     },
     "metadata": {},
     "output_type": "display_data"
    },
    {
     "name": "stdout",
     "output_type": "stream",
     "text": [
      "count    144.000000\n",
      "mean       1.244444\n",
      "std        0.744375\n",
      "min        0.200000\n",
      "5%         0.200000\n",
      "10%        0.200000\n",
      "20%        0.300000\n",
      "30%        0.590000\n",
      "40%        1.200000\n",
      "50%        1.350000\n",
      "60%        1.500000\n",
      "70%        1.800000\n",
      "80%        1.940000\n",
      "90%        2.200000\n",
      "95%        2.300000\n",
      "99%        2.500000\n",
      "max        2.500000\n",
      "Name: petal_width, dtype: float64\n"
     ]
    },
    {
     "data": {
      "image/png": "[encoded data removed]",
      "text/plain": [
       "<Figure size 640x480 with 1 Axes>"
      ]
     },
     "metadata": {},
     "output_type": "display_data"
    },
    {
     "name": "stdout",
     "output_type": "stream",
     "text": [
      "count    144.000000\n",
      "mean       1.974979\n",
      "std        0.393855\n",
      "min        1.277778\n",
      "5%         1.375507\n",
      "10%        1.429730\n",
      "20%        1.500000\n",
      "30%        1.754902\n",
      "40%        1.965747\n",
      "50%        2.035714\n",
      "60%        2.148148\n",
      "70%        2.193077\n",
      "80%        2.256667\n",
      "90%        2.420000\n",
      "95%        2.631429\n",
      "99%        2.788864\n",
      "max        2.961538\n",
      "Name: new_sepal_length_width, dtype: float64\n"
     ]
    },
    {
     "data": {
      "image/png": "[encoded data removed]",
      "text/plain": [
       "<Figure size 640x480 with 1 Axes>"
      ]
     },
     "metadata": {},
     "output_type": "display_data"
    },
    {
     "name": "stdout",
     "output_type": "stream",
     "text": [
      "count    144.000000\n",
      "mean       3.944965\n",
      "std        1.706281\n",
      "min        2.125000\n",
      "5%         2.355652\n",
      "10%        2.554565\n",
      "20%        2.684211\n",
      "30%        2.994118\n",
      "40%        3.135238\n",
      "50%        3.266667\n",
      "60%        3.400000\n",
      "70%        3.750000\n",
      "80%        5.000000\n",
      "90%        7.000000\n",
      "95%        7.500000\n",
      "99%        8.000000\n",
      "max        8.500000\n",
      "Name: new_petal_length_width, dtype: float64\n"
     ]
    },
    {
     "data": {
      "image/png": "[encoded data removed]",
      "text/plain": [
       "<Figure size 640x480 with 1 Axes>"
      ]
     },
     "metadata": {},
     "output_type": "display_data"
    }
   ],
   "source": [
    "for col in num_cols:\n",
    "    num_summary(iris, col, plot=True)"
   ]
  },
  {
   "cell_type": "code",
   "execution_count": 23,
   "id": "9cc215ce",
   "metadata": {},
   "outputs": [
    {
     "name": "stdout",
     "output_type": "stream",
     "text": [
      "            species      Ratio\n",
      "versicolor       50  34.722222\n",
      "virginica        50  34.722222\n",
      "setosa           44  30.555556\n",
      "##########################################\n"
     ]
    },
    {
     "data": {
      "image/png": "[encoded data removed]",
      "text/plain": [
       "<Figure size 640x480 with 1 Axes>"
      ]
     },
     "metadata": {},
     "output_type": "display_data"
    }
   ],
   "source": [
    "for col in cat_cols:\n",
    "    cat_summary(iris, col, plot=True)"
   ]
  },
  {
   "cell_type": "code",
   "execution_count": null,
   "id": "dfc3d8f8",
   "metadata": {},
   "outputs": [],
   "source": [
    "setosa = iris[iris['species'] == 'setosa']\n",
    "versicolor = iris[iris['species'] == 'versicolor']\n",
    "virginica = iris[iris['species'] == 'virginica']\n",
    "\n",
    "fig, ax = plt.subplots()\n",
    "fig.set_size_inches(13, 7)\n",
    "\n",
    "ax.scatter(setosa['petal length (cm)'], setosa['petal width (cm)'], label = 'Setosa',facecolor = 'blue')\n",
    "ax.scatter(versicolor['petal length (cm)'], versicolor['petal width (cm)'], label = 'Versicolor', facecolor = 'red')\n",
    "ax.scatter(virginica['petal length (cm)'], virginica['petal width (cm)'], label = 'Virginica', facecolor ='green')\n",
    "\n",
    "ax.set_xlabel('petal length (cm)')\n",
    "ax.set_ylabel('petal width (cm)')\n",
    "ax.grid()\n",
    "ax.set_title(\"Iris petals\")\n",
    "ax.legend()"
   ]
  },
  {
   "cell_type": "code",
   "execution_count": null,
   "id": "e28f77f0",
   "metadata": {},
   "outputs": [],
   "source": [
    "setosa = iris[iris['species'] == 'setosa']\n",
    "versicolor = iris[iris['species'] == 'versicolor']\n",
    "virginica = iris[iris['species'] == 'virginica']\n",
    "\n",
    "fig, ax = plt.subplots()\n",
    "fig.set_size_inches(13, 7)\n",
    "ax.scatter(setosa['sepal length (cm)'], setosa['sepal width (cm)'], label = 'Setosa',facecolor = 'blue')\n",
    "ax.scatter(versicolor['sepal length (cm)'], versicolor['sepal width (cm)'], label = 'Versicolor', facecolor = 'red')\n",
    "ax.scatter(virginica['sepal length (cm)'], virginica['sepal width (cm)'], label = 'Virginica', facecolor ='green')\n",
    "\n",
    "ax.set_xlabel('sepal length (cm)')\n",
    "ax.set_ylabel('sepal width (cm)')\n",
    "ax.grid()\n",
    "ax.set_title(\"Iris sepals\")\n",
    "ax.legend()"
   ]
  },
  {
   "cell_type": "code",
   "execution_count": 24,
   "id": "41300e57",
   "metadata": {},
   "outputs": [],
   "source": [
    "iris['species'] = iris['species'].apply(lambda x: 1 if x == 'versicolor' else (2 if x == 'virginica' else (3 if x == 'setosa' else 0)))"
   ]
  },
  {
   "cell_type": "code",
   "execution_count": 25,
   "id": "68a267dd",
   "metadata": {},
   "outputs": [
    {
     "data": {
      "text/html": [
       "<div>\n",
       "<style scoped>\n",
       "    .dataframe tbody tr th:only-of-type {\n",
       "        vertical-align: middle;\n",
       "    }\n",
       "\n",
       "    .dataframe tbody tr th {\n",
       "        vertical-align: top;\n",
       "    }\n",
       "\n",
       "    .dataframe thead th {\n",
       "        text-align: right;\n",
       "    }\n",
       "</style>\n",
       "<table border=\"1\" class=\"dataframe\">\n",
       "  <thead>\n",
       "    <tr style=\"text-align: right;\">\n",
       "      <th></th>\n",
       "      <th>sepal_length</th>\n",
       "      <th>sepal_width</th>\n",
       "      <th>petal_length</th>\n",
       "      <th>petal_width</th>\n",
       "      <th>species</th>\n",
       "      <th>new_sepal_length_width</th>\n",
       "      <th>new_petal_length_width</th>\n",
       "    </tr>\n",
       "  </thead>\n",
       "  <tbody>\n",
       "    <tr>\n",
       "      <th>0</th>\n",
       "      <td>5.1</td>\n",
       "      <td>3.5</td>\n",
       "      <td>1.4</td>\n",
       "      <td>0.2</td>\n",
       "      <td>3</td>\n",
       "      <td>1.457143</td>\n",
       "      <td>7.000000</td>\n",
       "    </tr>\n",
       "    <tr>\n",
       "      <th>1</th>\n",
       "      <td>4.9</td>\n",
       "      <td>3.0</td>\n",
       "      <td>1.4</td>\n",
       "      <td>0.2</td>\n",
       "      <td>3</td>\n",
       "      <td>1.633333</td>\n",
       "      <td>7.000000</td>\n",
       "    </tr>\n",
       "    <tr>\n",
       "      <th>2</th>\n",
       "      <td>4.7</td>\n",
       "      <td>3.2</td>\n",
       "      <td>1.3</td>\n",
       "      <td>0.2</td>\n",
       "      <td>3</td>\n",
       "      <td>1.468750</td>\n",
       "      <td>6.500000</td>\n",
       "    </tr>\n",
       "    <tr>\n",
       "      <th>3</th>\n",
       "      <td>4.6</td>\n",
       "      <td>3.1</td>\n",
       "      <td>1.5</td>\n",
       "      <td>0.2</td>\n",
       "      <td>3</td>\n",
       "      <td>1.483871</td>\n",
       "      <td>7.500000</td>\n",
       "    </tr>\n",
       "    <tr>\n",
       "      <th>4</th>\n",
       "      <td>5.0</td>\n",
       "      <td>3.6</td>\n",
       "      <td>1.4</td>\n",
       "      <td>0.2</td>\n",
       "      <td>3</td>\n",
       "      <td>1.388889</td>\n",
       "      <td>7.000000</td>\n",
       "    </tr>\n",
       "    <tr>\n",
       "      <th>...</th>\n",
       "      <td>...</td>\n",
       "      <td>...</td>\n",
       "      <td>...</td>\n",
       "      <td>...</td>\n",
       "      <td>...</td>\n",
       "      <td>...</td>\n",
       "      <td>...</td>\n",
       "    </tr>\n",
       "    <tr>\n",
       "      <th>145</th>\n",
       "      <td>6.7</td>\n",
       "      <td>3.0</td>\n",
       "      <td>5.2</td>\n",
       "      <td>2.3</td>\n",
       "      <td>2</td>\n",
       "      <td>2.233333</td>\n",
       "      <td>2.260870</td>\n",
       "    </tr>\n",
       "    <tr>\n",
       "      <th>146</th>\n",
       "      <td>6.3</td>\n",
       "      <td>2.5</td>\n",
       "      <td>5.0</td>\n",
       "      <td>1.9</td>\n",
       "      <td>2</td>\n",
       "      <td>2.520000</td>\n",
       "      <td>2.631579</td>\n",
       "    </tr>\n",
       "    <tr>\n",
       "      <th>147</th>\n",
       "      <td>6.5</td>\n",
       "      <td>3.0</td>\n",
       "      <td>5.2</td>\n",
       "      <td>2.0</td>\n",
       "      <td>2</td>\n",
       "      <td>2.166667</td>\n",
       "      <td>2.600000</td>\n",
       "    </tr>\n",
       "    <tr>\n",
       "      <th>148</th>\n",
       "      <td>6.2</td>\n",
       "      <td>3.4</td>\n",
       "      <td>5.4</td>\n",
       "      <td>2.3</td>\n",
       "      <td>2</td>\n",
       "      <td>1.823529</td>\n",
       "      <td>2.347826</td>\n",
       "    </tr>\n",
       "    <tr>\n",
       "      <th>149</th>\n",
       "      <td>5.9</td>\n",
       "      <td>3.0</td>\n",
       "      <td>5.1</td>\n",
       "      <td>1.8</td>\n",
       "      <td>2</td>\n",
       "      <td>1.966667</td>\n",
       "      <td>2.833333</td>\n",
       "    </tr>\n",
       "  </tbody>\n",
       "</table>\n",
       "<p>144 rows × 7 columns</p>\n",
       "</div>"
      ],
      "text/plain": [
       "     sepal_length  sepal_width  petal_length  petal_width  species  \\\n",
       "0             5.1          3.5           1.4          0.2        3   \n",
       "1             4.9          3.0           1.4          0.2        3   \n",
       "2             4.7          3.2           1.3          0.2        3   \n",
       "3             4.6          3.1           1.5          0.2        3   \n",
       "4             5.0          3.6           1.4          0.2        3   \n",
       "..            ...          ...           ...          ...      ...   \n",
       "145           6.7          3.0           5.2          2.3        2   \n",
       "146           6.3          2.5           5.0          1.9        2   \n",
       "147           6.5          3.0           5.2          2.0        2   \n",
       "148           6.2          3.4           5.4          2.3        2   \n",
       "149           5.9          3.0           5.1          1.8        2   \n",
       "\n",
       "     new_sepal_length_width  new_petal_length_width  \n",
       "0                  1.457143                7.000000  \n",
       "1                  1.633333                7.000000  \n",
       "2                  1.468750                6.500000  \n",
       "3                  1.483871                7.500000  \n",
       "4                  1.388889                7.000000  \n",
       "..                      ...                     ...  \n",
       "145                2.233333                2.260870  \n",
       "146                2.520000                2.631579  \n",
       "147                2.166667                2.600000  \n",
       "148                1.823529                2.347826  \n",
       "149                1.966667                2.833333  \n",
       "\n",
       "[144 rows x 7 columns]"
      ]
     },
     "execution_count": 25,
     "metadata": {},
     "output_type": "execute_result"
    }
   ],
   "source": [
    "iris"
   ]
  },
  {
   "cell_type": "code",
   "execution_count": 26,
   "id": "c8fcd1c8",
   "metadata": {},
   "outputs": [],
   "source": [
    "y = iris['species']\n",
    "X = iris.drop(columns='species', axis = 1)"
   ]
  },
  {
   "cell_type": "code",
   "execution_count": 28,
   "id": "02be31f9",
   "metadata": {},
   "outputs": [],
   "source": [
    "sc = StandardScaler()\n",
    "iris_scaled = sc.fit_transform(X)\n",
    "X= pd.DataFrame(iris_scaled, columns=X.columns)"
   ]
  },
  {
   "cell_type": "code",
   "execution_count": 30,
   "id": "6ec75fc5",
   "metadata": {},
   "outputs": [
    {
     "data": {
      "text/html": [
       "<style>#sk-container-id-1 {color: black;background-color: white;}#sk-container-id-1 pre{padding: 0;}#sk-container-id-1 div.sk-toggleable {background-color: white;}#sk-container-id-1 label.sk-toggleable__label {cursor: pointer;display: block;width: 100%;margin-bottom: 0;padding: 0.3em;box-sizing: border-box;text-align: center;}#sk-container-id-1 label.sk-toggleable__label-arrow:before {content: \"▸\";float: left;margin-right: 0.25em;color: #696969;}#sk-container-id-1 label.sk-toggleable__label-arrow:hover:before {color: black;}#sk-container-id-1 div.sk-estimator:hover label.sk-toggleable__label-arrow:before {color: black;}#sk-container-id-1 div.sk-toggleable__content {max-height: 0;max-width: 0;overflow: hidden;text-align: left;background-color: #f0f8ff;}#sk-container-id-1 div.sk-toggleable__content pre {margin: 0.2em;color: black;border-radius: 0.25em;background-color: #f0f8ff;}#sk-container-id-1 input.sk-toggleable__control:checked~div.sk-toggleable__content {max-height: 200px;max-width: 100%;overflow: auto;}#sk-container-id-1 input.sk-toggleable__control:checked~label.sk-toggleable__label-arrow:before {content: \"▾\";}#sk-container-id-1 div.sk-estimator input.sk-toggleable__control:checked~label.sk-toggleable__label {background-color: #d4ebff;}#sk-container-id-1 div.sk-label input.sk-toggleable__control:checked~label.sk-toggleable__label {background-color: #d4ebff;}#sk-container-id-1 input.sk-hidden--visually {border: 0;clip: rect(1px 1px 1px 1px);clip: rect(1px, 1px, 1px, 1px);height: 1px;margin: -1px;overflow: hidden;padding: 0;position: absolute;width: 1px;}#sk-container-id-1 div.sk-estimator {font-family: monospace;background-color: #f0f8ff;border: 1px dotted black;border-radius: 0.25em;box-sizing: border-box;margin-bottom: 0.5em;}#sk-container-id-1 div.sk-estimator:hover {background-color: #d4ebff;}#sk-container-id-1 div.sk-parallel-item::after {content: \"\";width: 100%;border-bottom: 1px solid gray;flex-grow: 1;}#sk-container-id-1 div.sk-label:hover label.sk-toggleable__label {background-color: #d4ebff;}#sk-container-id-1 div.sk-serial::before {content: \"\";position: absolute;border-left: 1px solid gray;box-sizing: border-box;top: 0;bottom: 0;left: 50%;z-index: 0;}#sk-container-id-1 div.sk-serial {display: flex;flex-direction: column;align-items: center;background-color: white;padding-right: 0.2em;padding-left: 0.2em;position: relative;}#sk-container-id-1 div.sk-item {position: relative;z-index: 1;}#sk-container-id-1 div.sk-parallel {display: flex;align-items: stretch;justify-content: center;background-color: white;position: relative;}#sk-container-id-1 div.sk-item::before, #sk-container-id-1 div.sk-parallel-item::before {content: \"\";position: absolute;border-left: 1px solid gray;box-sizing: border-box;top: 0;bottom: 0;left: 50%;z-index: -1;}#sk-container-id-1 div.sk-parallel-item {display: flex;flex-direction: column;z-index: 1;position: relative;background-color: white;}#sk-container-id-1 div.sk-parallel-item:first-child::after {align-self: flex-end;width: 50%;}#sk-container-id-1 div.sk-parallel-item:last-child::after {align-self: flex-start;width: 50%;}#sk-container-id-1 div.sk-parallel-item:only-child::after {width: 0;}#sk-container-id-1 div.sk-dashed-wrapped {border: 1px dashed gray;margin: 0 0.4em 0.5em 0.4em;box-sizing: border-box;padding-bottom: 0.4em;background-color: white;}#sk-container-id-1 div.sk-label label {font-family: monospace;font-weight: bold;display: inline-block;line-height: 1.2em;}#sk-container-id-1 div.sk-label-container {text-align: center;}#sk-container-id-1 div.sk-container {/* jupyter's `normalize.less` sets `[hidden] { display: none; }` but bootstrap.min.css set `[hidden] { display: none !important; }` so we also need the `!important` here to be able to override the default hidden behavior on the sphinx rendered scikit-learn.org. See: https://github.com/scikit-learn/scikit-learn/issues/21755 */display: inline-block !important;position: relative;}#sk-container-id-1 div.sk-text-repr-fallback {display: none;}</style><div id=\"sk-container-id-1\" class=\"sk-top-container\"><div class=\"sk-text-repr-fallback\"><pre>KNeighborsClassifier(n_neighbors=3)</pre><b>In a Jupyter environment, please rerun this cell to show the HTML representation or trust the notebook. <br />On GitHub, the HTML representation is unable to render, please try loading this page with nbviewer.org.</b></div><div class=\"sk-container\" hidden><div class=\"sk-item\"><div class=\"sk-estimator sk-toggleable\"><input class=\"sk-toggleable__control sk-hidden--visually\" id=\"sk-estimator-id-1\" type=\"checkbox\" checked><label for=\"sk-estimator-id-1\" class=\"sk-toggleable__label sk-toggleable__label-arrow\">KNeighborsClassifier</label><div class=\"sk-toggleable__content\"><pre>KNeighborsClassifier(n_neighbors=3)</pre></div></div></div></div></div>"
      ],
      "text/plain": [
       "KNeighborsClassifier(n_neighbors=3)"
      ]
     },
     "execution_count": 30,
     "metadata": {},
     "output_type": "execute_result"
    }
   ],
   "source": [
    "knn1 = KNeighborsClassifier(n_neighbors=3)\n",
    "knn1.fit(X, y)"
   ]
  },
  {
   "cell_type": "code",
   "execution_count": 33,
   "id": "1fff1c2a",
   "metadata": {},
   "outputs": [],
   "source": [
    "prediction = knn1.predict(X)"
   ]
  },
  {
   "cell_type": "code",
   "execution_count": 34,
   "id": "a1a2e625",
   "metadata": {},
   "outputs": [
    {
     "name": "stdout",
     "output_type": "stream",
     "text": [
      "Precision, Recall, Confusion matrix, in training\n",
      "\n",
      "              precision    recall  f1-score   support\n",
      "\n",
      "           1      0.923     0.960     0.941        50\n",
      "           2      0.959     0.940     0.949        50\n",
      "           3      1.000     0.977     0.989        44\n",
      "\n",
      "    accuracy                          0.958       144\n",
      "   macro avg      0.961     0.959     0.960       144\n",
      "weighted avg      0.959     0.958     0.959       144\n",
      "\n",
      "[[48  2  0]\n",
      " [ 3 47  0]\n",
      " [ 1  0 43]]\n"
     ]
    }
   ],
   "source": [
    "from sklearn import metrics\n",
    "\n",
    "# Precision Recall scores\n",
    "print(metrics.classification_report(y, prediction, digits=3))\n",
    "\n",
    "# Confusion matrix\n",
    "print(metrics.confusion_matrix(y, prediction))\n",
    "\n",
    "\n",
    "   \n",
    "\n"
   ]
  },
  {
   "cell_type": "code",
   "execution_count": null,
   "id": "38c7283f",
   "metadata": {},
   "outputs": [],
   "source": []
  }
 ],
 "metadata": {
  "kernelspec": {
   "display_name": "Python 3 (ipykernel)",
   "language": "python",
   "name": "python3"
  },
  "language_info": {
   "codemirror_mode": {
    "name": "ipython",
    "version": 3
   },
   "file_extension": ".py",
   "mimetype": "text/x-python",
   "name": "python",
   "nbconvert_exporter": "python",
   "pygments_lexer": "ipython3",
   "version": "3.10.1"
  }
 },
 "nbformat": 4,
 "nbformat_minor": 5
}
