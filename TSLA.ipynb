{
 "cells": [
  {
   "cell_type": "code",
   "execution_count": 1,
   "id": "bf55326f",
   "metadata": {},
   "outputs": [],
   "source": [
    "import pandas as pd\n",
    "import matplotlib.pyplot as plt\n",
    "from fbprophet import Prophet"
   ]
  },
  {
   "cell_type": "code",
   "execution_count": 21,
   "id": "6e679a27",
   "metadata": {},
   "outputs": [],
   "source": [
    "data = pd.read_csv('Datasets/TSLA.csv')"
   ]
  },
  {
   "cell_type": "code",
   "execution_count": 22,
   "id": "7910b4ff",
   "metadata": {},
   "outputs": [
    {
     "data": {
      "text/html": [
       "<div>\n",
       "<style scoped>\n",
       "    .dataframe tbody tr th:only-of-type {\n",
       "        vertical-align: middle;\n",
       "    }\n",
       "\n",
       "    .dataframe tbody tr th {\n",
       "        vertical-align: top;\n",
       "    }\n",
       "\n",
       "    .dataframe thead th {\n",
       "        text-align: right;\n",
       "    }\n",
       "</style>\n",
       "<table border=\"1\" class=\"dataframe\">\n",
       "  <thead>\n",
       "    <tr style=\"text-align: right;\">\n",
       "      <th></th>\n",
       "      <th>Date</th>\n",
       "      <th>Open</th>\n",
       "      <th>High</th>\n",
       "      <th>Low</th>\n",
       "      <th>Close</th>\n",
       "      <th>Adj Close</th>\n",
       "      <th>Volume</th>\n",
       "    </tr>\n",
       "  </thead>\n",
       "  <tbody>\n",
       "    <tr>\n",
       "      <th>0</th>\n",
       "      <td>2022-07-19</td>\n",
       "      <td>245.000000</td>\n",
       "      <td>247.139999</td>\n",
       "      <td>236.976669</td>\n",
       "      <td>245.529999</td>\n",
       "      <td>245.529999</td>\n",
       "      <td>80890200</td>\n",
       "    </tr>\n",
       "    <tr>\n",
       "      <th>1</th>\n",
       "      <td>2022-07-20</td>\n",
       "      <td>246.783340</td>\n",
       "      <td>250.663330</td>\n",
       "      <td>243.483337</td>\n",
       "      <td>247.500000</td>\n",
       "      <td>247.500000</td>\n",
       "      <td>88864200</td>\n",
       "    </tr>\n",
       "    <tr>\n",
       "      <th>2</th>\n",
       "      <td>2022-07-21</td>\n",
       "      <td>255.106674</td>\n",
       "      <td>273.266663</td>\n",
       "      <td>254.866669</td>\n",
       "      <td>271.706665</td>\n",
       "      <td>271.706665</td>\n",
       "      <td>142032300</td>\n",
       "    </tr>\n",
       "    <tr>\n",
       "      <th>3</th>\n",
       "      <td>2022-07-22</td>\n",
       "      <td>276.220001</td>\n",
       "      <td>280.786682</td>\n",
       "      <td>270.713318</td>\n",
       "      <td>272.243347</td>\n",
       "      <td>272.243347</td>\n",
       "      <td>103472700</td>\n",
       "    </tr>\n",
       "    <tr>\n",
       "      <th>4</th>\n",
       "      <td>2022-07-25</td>\n",
       "      <td>272.216675</td>\n",
       "      <td>274.146667</td>\n",
       "      <td>267.399994</td>\n",
       "      <td>268.433319</td>\n",
       "      <td>268.433319</td>\n",
       "      <td>64073400</td>\n",
       "    </tr>\n",
       "  </tbody>\n",
       "</table>\n",
       "</div>"
      ],
      "text/plain": [
       "         Date        Open        High         Low       Close   Adj Close  \\\n",
       "0  2022-07-19  245.000000  247.139999  236.976669  245.529999  245.529999   \n",
       "1  2022-07-20  246.783340  250.663330  243.483337  247.500000  247.500000   \n",
       "2  2022-07-21  255.106674  273.266663  254.866669  271.706665  271.706665   \n",
       "3  2022-07-22  276.220001  280.786682  270.713318  272.243347  272.243347   \n",
       "4  2022-07-25  272.216675  274.146667  267.399994  268.433319  268.433319   \n",
       "\n",
       "      Volume  \n",
       "0   80890200  \n",
       "1   88864200  \n",
       "2  142032300  \n",
       "3  103472700  \n",
       "4   64073400  "
      ]
     },
     "execution_count": 22,
     "metadata": {},
     "output_type": "execute_result"
    }
   ],
   "source": [
    "data.head()"
   ]
  },
  {
   "cell_type": "code",
   "execution_count": 23,
   "id": "9a16a300",
   "metadata": {},
   "outputs": [
    {
     "data": {
      "text/plain": [
       "Date         0\n",
       "Open         0\n",
       "High         0\n",
       "Low          0\n",
       "Close        0\n",
       "Adj Close    0\n",
       "Volume       0\n",
       "dtype: int64"
      ]
     },
     "execution_count": 23,
     "metadata": {},
     "output_type": "execute_result"
    }
   ],
   "source": [
    "data.isnull().sum()"
   ]
  },
  {
   "cell_type": "code",
   "execution_count": 24,
   "id": "105a19c8",
   "metadata": {},
   "outputs": [
    {
     "name": "stdout",
     "output_type": "stream",
     "text": [
      "<class 'pandas.core.frame.DataFrame'>\n",
      "RangeIndex: 252 entries, 0 to 251\n",
      "Data columns (total 7 columns):\n",
      " #   Column     Non-Null Count  Dtype  \n",
      "---  ------     --------------  -----  \n",
      " 0   Date       252 non-null    object \n",
      " 1   Open       252 non-null    float64\n",
      " 2   High       252 non-null    float64\n",
      " 3   Low        252 non-null    float64\n",
      " 4   Close      252 non-null    float64\n",
      " 5   Adj Close  252 non-null    float64\n",
      " 6   Volume     252 non-null    int64  \n",
      "dtypes: float64(5), int64(1), object(1)\n",
      "memory usage: 13.9+ KB\n"
     ]
    }
   ],
   "source": [
    "data.info()"
   ]
  },
  {
   "cell_type": "code",
   "execution_count": 25,
   "id": "373b20ff",
   "metadata": {},
   "outputs": [
    {
     "data": {
      "text/html": [
       "<div>\n",
       "<style scoped>\n",
       "    .dataframe tbody tr th:only-of-type {\n",
       "        vertical-align: middle;\n",
       "    }\n",
       "\n",
       "    .dataframe tbody tr th {\n",
       "        vertical-align: top;\n",
       "    }\n",
       "\n",
       "    .dataframe thead th {\n",
       "        text-align: right;\n",
       "    }\n",
       "</style>\n",
       "<table border=\"1\" class=\"dataframe\">\n",
       "  <thead>\n",
       "    <tr style=\"text-align: right;\">\n",
       "      <th></th>\n",
       "      <th>Open</th>\n",
       "      <th>High</th>\n",
       "      <th>Low</th>\n",
       "      <th>Close</th>\n",
       "      <th>Adj Close</th>\n",
       "      <th>Volume</th>\n",
       "    </tr>\n",
       "  </thead>\n",
       "  <tbody>\n",
       "    <tr>\n",
       "      <th>count</th>\n",
       "      <td>252.000000</td>\n",
       "      <td>252.000000</td>\n",
       "      <td>252.000000</td>\n",
       "      <td>252.000000</td>\n",
       "      <td>252.000000</td>\n",
       "      <td>2.520000e+02</td>\n",
       "    </tr>\n",
       "    <tr>\n",
       "      <th>mean</th>\n",
       "      <td>213.341614</td>\n",
       "      <td>218.046614</td>\n",
       "      <td>208.378730</td>\n",
       "      <td>213.346746</td>\n",
       "      <td>213.346746</td>\n",
       "      <td>1.239752e+08</td>\n",
       "    </tr>\n",
       "    <tr>\n",
       "      <th>std</th>\n",
       "      <td>53.526656</td>\n",
       "      <td>54.128762</td>\n",
       "      <td>52.966210</td>\n",
       "      <td>53.521440</td>\n",
       "      <td>53.521440</td>\n",
       "      <td>4.925804e+07</td>\n",
       "    </tr>\n",
       "    <tr>\n",
       "      <th>min</th>\n",
       "      <td>103.000000</td>\n",
       "      <td>111.750000</td>\n",
       "      <td>101.809998</td>\n",
       "      <td>108.099998</td>\n",
       "      <td>108.099998</td>\n",
       "      <td>4.186470e+07</td>\n",
       "    </tr>\n",
       "    <tr>\n",
       "      <th>25%</th>\n",
       "      <td>176.902500</td>\n",
       "      <td>182.459999</td>\n",
       "      <td>172.507496</td>\n",
       "      <td>178.762501</td>\n",
       "      <td>178.762501</td>\n",
       "      <td>8.494012e+07</td>\n",
       "    </tr>\n",
       "    <tr>\n",
       "      <th>50%</th>\n",
       "      <td>198.919998</td>\n",
       "      <td>203.474998</td>\n",
       "      <td>193.599998</td>\n",
       "      <td>197.684998</td>\n",
       "      <td>197.684998</td>\n",
       "      <td>1.197496e+08</td>\n",
       "    </tr>\n",
       "    <tr>\n",
       "      <th>75%</th>\n",
       "      <td>262.077499</td>\n",
       "      <td>271.491661</td>\n",
       "      <td>258.307503</td>\n",
       "      <td>264.769989</td>\n",
       "      <td>264.769989</td>\n",
       "      <td>1.589152e+08</td>\n",
       "    </tr>\n",
       "    <tr>\n",
       "      <th>max</th>\n",
       "      <td>311.666656</td>\n",
       "      <td>314.666656</td>\n",
       "      <td>305.579987</td>\n",
       "      <td>309.320007</td>\n",
       "      <td>309.320007</td>\n",
       "      <td>3.065906e+08</td>\n",
       "    </tr>\n",
       "  </tbody>\n",
       "</table>\n",
       "</div>"
      ],
      "text/plain": [
       "             Open        High         Low       Close   Adj Close  \\\n",
       "count  252.000000  252.000000  252.000000  252.000000  252.000000   \n",
       "mean   213.341614  218.046614  208.378730  213.346746  213.346746   \n",
       "std     53.526656   54.128762   52.966210   53.521440   53.521440   \n",
       "min    103.000000  111.750000  101.809998  108.099998  108.099998   \n",
       "25%    176.902500  182.459999  172.507496  178.762501  178.762501   \n",
       "50%    198.919998  203.474998  193.599998  197.684998  197.684998   \n",
       "75%    262.077499  271.491661  258.307503  264.769989  264.769989   \n",
       "max    311.666656  314.666656  305.579987  309.320007  309.320007   \n",
       "\n",
       "             Volume  \n",
       "count  2.520000e+02  \n",
       "mean   1.239752e+08  \n",
       "std    4.925804e+07  \n",
       "min    4.186470e+07  \n",
       "25%    8.494012e+07  \n",
       "50%    1.197496e+08  \n",
       "75%    1.589152e+08  \n",
       "max    3.065906e+08  "
      ]
     },
     "execution_count": 25,
     "metadata": {},
     "output_type": "execute_result"
    }
   ],
   "source": [
    "data.describe()"
   ]
  },
  {
   "cell_type": "code",
   "execution_count": 26,
   "id": "80ca01f6",
   "metadata": {},
   "outputs": [
    {
     "data": {
      "image/png": "[encoded data removed]",
      "text/plain": [
       "<Figure size 640x480 with 1 Axes>"
      ]
     },
     "metadata": {},
     "output_type": "display_data"
    }
   ],
   "source": [
    "close = data['Close']\n",
    "ax = close.plot(title = 'Tesla')\n",
    "ax.set_xlabel('Date')\n",
    "ax.set_ylabel('Close')\n",
    "plt.show()"
   ]
  },
  {
   "cell_type": "code",
   "execution_count": 27,
   "id": "1a112be6",
   "metadata": {},
   "outputs": [],
   "source": [
    "data['Date'] = pd.to_datetime(data['Date'], infer_datetime_format=True)"
   ]
  },
  {
   "cell_type": "code",
   "execution_count": 28,
   "id": "9be2e7e8",
   "metadata": {},
   "outputs": [
    {
     "name": "stdout",
     "output_type": "stream",
     "text": [
      "<class 'pandas.core.frame.DataFrame'>\n",
      "RangeIndex: 252 entries, 0 to 251\n",
      "Data columns (total 7 columns):\n",
      " #   Column     Non-Null Count  Dtype         \n",
      "---  ------     --------------  -----         \n",
      " 0   Date       252 non-null    datetime64[ns]\n",
      " 1   Open       252 non-null    float64       \n",
      " 2   High       252 non-null    float64       \n",
      " 3   Low        252 non-null    float64       \n",
      " 4   Close      252 non-null    float64       \n",
      " 5   Adj Close  252 non-null    float64       \n",
      " 6   Volume     252 non-null    int64         \n",
      "dtypes: datetime64[ns](1), float64(5), int64(1)\n",
      "memory usage: 13.9 KB\n"
     ]
    }
   ],
   "source": [
    "data.info()"
   ]
  },
  {
   "cell_type": "code",
   "execution_count": 32,
   "id": "3fd6b418",
   "metadata": {},
   "outputs": [],
   "source": [
    "data = data[['Date', 'Close']]"
   ]
  },
  {
   "cell_type": "code",
   "execution_count": 33,
   "id": "8146131c",
   "metadata": {},
   "outputs": [
    {
     "data": {
      "text/html": [
       "<div>\n",
       "<style scoped>\n",
       "    .dataframe tbody tr th:only-of-type {\n",
       "        vertical-align: middle;\n",
       "    }\n",
       "\n",
       "    .dataframe tbody tr th {\n",
       "        vertical-align: top;\n",
       "    }\n",
       "\n",
       "    .dataframe thead th {\n",
       "        text-align: right;\n",
       "    }\n",
       "</style>\n",
       "<table border=\"1\" class=\"dataframe\">\n",
       "  <thead>\n",
       "    <tr style=\"text-align: right;\">\n",
       "      <th></th>\n",
       "      <th>Date</th>\n",
       "      <th>Close</th>\n",
       "    </tr>\n",
       "  </thead>\n",
       "  <tbody>\n",
       "    <tr>\n",
       "      <th>0</th>\n",
       "      <td>2022-07-19</td>\n",
       "      <td>245.529999</td>\n",
       "    </tr>\n",
       "    <tr>\n",
       "      <th>1</th>\n",
       "      <td>2022-07-20</td>\n",
       "      <td>247.500000</td>\n",
       "    </tr>\n",
       "    <tr>\n",
       "      <th>2</th>\n",
       "      <td>2022-07-21</td>\n",
       "      <td>271.706665</td>\n",
       "    </tr>\n",
       "    <tr>\n",
       "      <th>3</th>\n",
       "      <td>2022-07-22</td>\n",
       "      <td>272.243347</td>\n",
       "    </tr>\n",
       "    <tr>\n",
       "      <th>4</th>\n",
       "      <td>2022-07-25</td>\n",
       "      <td>268.433319</td>\n",
       "    </tr>\n",
       "    <tr>\n",
       "      <th>...</th>\n",
       "      <td>...</td>\n",
       "      <td>...</td>\n",
       "    </tr>\n",
       "    <tr>\n",
       "      <th>247</th>\n",
       "      <td>2023-07-13</td>\n",
       "      <td>277.899994</td>\n",
       "    </tr>\n",
       "    <tr>\n",
       "      <th>248</th>\n",
       "      <td>2023-07-14</td>\n",
       "      <td>281.380005</td>\n",
       "    </tr>\n",
       "    <tr>\n",
       "      <th>249</th>\n",
       "      <td>2023-07-17</td>\n",
       "      <td>290.380005</td>\n",
       "    </tr>\n",
       "    <tr>\n",
       "      <th>250</th>\n",
       "      <td>2023-07-18</td>\n",
       "      <td>293.339996</td>\n",
       "    </tr>\n",
       "    <tr>\n",
       "      <th>251</th>\n",
       "      <td>2023-07-19</td>\n",
       "      <td>291.260010</td>\n",
       "    </tr>\n",
       "  </tbody>\n",
       "</table>\n",
       "<p>252 rows × 2 columns</p>\n",
       "</div>"
      ],
      "text/plain": [
       "          Date       Close\n",
       "0   2022-07-19  245.529999\n",
       "1   2022-07-20  247.500000\n",
       "2   2022-07-21  271.706665\n",
       "3   2022-07-22  272.243347\n",
       "4   2022-07-25  268.433319\n",
       "..         ...         ...\n",
       "247 2023-07-13  277.899994\n",
       "248 2023-07-14  281.380005\n",
       "249 2023-07-17  290.380005\n",
       "250 2023-07-18  293.339996\n",
       "251 2023-07-19  291.260010\n",
       "\n",
       "[252 rows x 2 columns]"
      ]
     },
     "execution_count": 33,
     "metadata": {},
     "output_type": "execute_result"
    }
   ],
   "source": [
    "data"
   ]
  },
  {
   "cell_type": "code",
   "execution_count": 34,
   "id": "fd8ebfb6",
   "metadata": {},
   "outputs": [],
   "source": [
    "data = data.rename(columns = {'Date' : 'ds', 'Close' : 'y'})"
   ]
  },
  {
   "cell_type": "code",
   "execution_count": 2,
   "id": "78a12d79",
   "metadata": {},
   "outputs": [],
   "source": [
    "model = Prophet()\n",
    "model.fit(data)\n",
    "predict = model.make_future_dataframe(periods=365)\n",
    "forcast = model.predict(predict)\n",
    "forcast[[\"ds\", \"yhat\", \"yhat_lower\", \"yhat_upper\"]].tail()"
   ]
  },
  {
   "cell_type": "code",
   "execution_count": null,
   "id": "084e85e6",
   "metadata": {},
   "outputs": [],
   "source": [
    "graph = model.plot(forcast, xlabel=\"Date\", ylabel=\"Price\")"
   ]
  }
 ],
 "metadata": {
  "kernelspec": {
   "display_name": "Python 3 (ipykernel)",
   "language": "python",
   "name": "python3"
  },
  "language_info": {
   "codemirror_mode": {
    "name": "ipython",
    "version": 3
   },
   "file_extension": ".py",
   "mimetype": "text/x-python",
   "name": "python",
   "nbconvert_exporter": "python",
   "pygments_lexer": "ipython3",
   "version": "3.10.9"
  }
 },
 "nbformat": 4,
 "nbformat_minor": 5
}
