{
 "cells": [
  {
   "cell_type": "code",
   "execution_count": 1,
   "id": "62a991f6",
   "metadata": {},
   "outputs": [],
   "source": [
    "import pandas as pd\n",
    "from fbprophet import Prophet"
   ]
  },
  {
   "cell_type": "code",
   "execution_count": null,
   "id": "3014c4c6",
   "metadata": {},
   "outputs": [],
   "source": [
    "btc = pd.read_csv(\"Datasets\\BTC-USD.csv\")"
   ]
  },
  {
   "cell_type": "code",
   "execution_count": null,
   "id": "b962114e",
   "metadata": {},
   "outputs": [],
   "source": [
    "btc.info()"
   ]
  },
  {
   "cell_type": "code",
   "execution_count": null,
   "id": "f43af402",
   "metadata": {},
   "outputs": [],
   "source": [
    "btc.describe()"
   ]
  },
  {
   "cell_type": "code",
   "execution_count": null,
   "id": "2cd4da87",
   "metadata": {},
   "outputs": [],
   "source": [
    "btc = btc[[\"Date\", \"Close\"]]\n",
    "btc.columns = [\"ds\", \"y\"]\n",
    "print(df)"
   ]
  },
  {
   "cell_type": "code",
   "execution_count": null,
   "id": "84beca42",
   "metadata": {},
   "outputs": [],
   "source": [
    "prophet = Prophet()\n",
    "prophet.fit(df)"
   ]
  },
  {
   "cell_type": "code",
   "execution_count": null,
   "id": "c8efa60a",
   "metadata": {},
   "outputs": [],
   "source": [
    "future = prophet.make_future_dataframe(periods=365)\n",
    "print(future)"
   ]
  },
  {
   "cell_type": "code",
   "execution_count": null,
   "id": "e0ba6252",
   "metadata": {},
   "outputs": [],
   "source": [
    "forecast = prophet.predict(future)\n",
    "forecast[[\"ds\", \"yhat\", \"yhat_lower\", \"yhat_upper\"]].tail(200)"
   ]
  },
  {
   "cell_type": "code",
   "execution_count": null,
   "id": "dd38a36a",
   "metadata": {},
   "outputs": [],
   "source": [
    "from fbprophet.plot import plot\n",
    "prophet.plot(forecast, figsize=(20, 10))"
   ]
  }
 ],
 "metadata": {
  "kernelspec": {
   "display_name": "Python 3 (ipykernel)",
   "language": "python",
   "name": "python3"
  },
  "language_info": {
   "codemirror_mode": {
    "name": "ipython",
    "version": 3
   },
   "file_extension": ".py",
   "mimetype": "text/x-python",
   "name": "python",
   "nbconvert_exporter": "python",
   "pygments_lexer": "ipython3",
   "version": "3.10.9"
  }
 },
 "nbformat": 4,
 "nbformat_minor": 5
}
