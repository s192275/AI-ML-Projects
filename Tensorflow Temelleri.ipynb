{
 "cells": [
  {
   "cell_type": "code",
   "execution_count": 1,
   "id": "0608bbc3",
   "metadata": {},
   "outputs": [],
   "source": [
    "import tensorflow as tf\n"
   ]
  },
  {
   "cell_type": "code",
   "execution_count": 27,
   "id": "3404444f",
   "metadata": {},
   "outputs": [
    {
     "name": "stdout",
     "output_type": "stream",
     "text": [
      "tf.Tensor(\n",
      "[[4.]\n",
      " [4.]\n",
      " [4.]], shape=(3, 1), dtype=float32)\n"
     ]
    }
   ],
   "source": [
    "matrix = tf.constant(4, shape = (3,1), dtype = float) # Sabit bir şekilde istenilen boyutlu isttenilen türlü bir matris oluşturduk.\n",
    "print(matrix)"
   ]
  },
  {
   "cell_type": "code",
   "execution_count": 7,
   "id": "0937f424",
   "metadata": {},
   "outputs": [
    {
     "name": "stdout",
     "output_type": "stream",
     "text": [
      "tf.Tensor(\n",
      "[[1. 0. 0.]\n",
      " [0. 1. 0.]\n",
      " [0. 0. 1.]], shape=(3, 3), dtype=float32)\n"
     ]
    }
   ],
   "source": [
    "matrix = tf.eye(3) #Birim matris\n",
    "print(matrix)"
   ]
  },
  {
   "cell_type": "code",
   "execution_count": 9,
   "id": "fb4f9dd5",
   "metadata": {},
   "outputs": [
    {
     "name": "stdout",
     "output_type": "stream",
     "text": [
      "tf.Tensor(\n",
      "[[1. 1. 1.]\n",
      " [1. 1. 1.]\n",
      " [1. 1. 1.]\n",
      " [1. 1. 1.]], shape=(4, 3), dtype=float32)\n"
     ]
    }
   ],
   "source": [
    "matrix = tf.ones((4,3)) # 1 lik matris oluşturur.\n",
    "print(matrix)"
   ]
  },
  {
   "cell_type": "code",
   "execution_count": 10,
   "id": "3f498fe5",
   "metadata": {},
   "outputs": [
    {
     "name": "stdout",
     "output_type": "stream",
     "text": [
      "tf.Tensor(\n",
      "[[[0. 0. 0.]\n",
      "  [0. 0. 0.]\n",
      "  [0. 0. 0.]]\n",
      "\n",
      " [[0. 0. 0.]\n",
      "  [0. 0. 0.]\n",
      "  [0. 0. 0.]]\n",
      "\n",
      " [[0. 0. 0.]\n",
      "  [0. 0. 0.]\n",
      "  [0. 0. 0.]]], shape=(3, 3, 3), dtype=float32)\n"
     ]
    }
   ],
   "source": [
    "matrix = tf.zeros((3,3,3)) # İstenilen boyutlarda 0 lık matrisler oluşturur.\n",
    "print(matrix)"
   ]
  },
  {
   "cell_type": "code",
   "execution_count": 11,
   "id": "5448f6a5",
   "metadata": {},
   "outputs": [
    {
     "name": "stdout",
     "output_type": "stream",
     "text": [
      "tf.Tensor(\n",
      "[[11.067278  11.444793 ]\n",
      " [ 3.5103846 17.77405  ]], shape=(2, 2), dtype=float32)\n"
     ]
    }
   ],
   "source": [
    "matrix = tf.random.uniform((2,2), minval = 0 , maxval = 20) #İstenilen boyutlarda min ve max değeri verilerek o değerler arasında random değerli matris oluşturur.\n",
    "print(matrix)"
   ]
  },
  {
   "cell_type": "code",
   "execution_count": 12,
   "id": "812dba48",
   "metadata": {},
   "outputs": [
    {
     "name": "stdout",
     "output_type": "stream",
     "text": [
      "tf.Tensor(\n",
      "[[-0.39284575 -1.93370283  0.00657964]\n",
      " [-0.05134608 -0.09399207  0.49842507]\n",
      " [-1.48965621  0.84721494 -0.77500236]], shape=(3, 3), dtype=float64)\n"
     ]
    }
   ],
   "source": [
    "matrix = tf.random.normal((3,3), mean = 0, stddev = 1) #Normal bir dağılımdan rastgele değerler verir.\n",
    "print(tf.cast(matrix, dtype = tf.float64))"
   ]
  },
  {
   "cell_type": "code",
   "execution_count": 17,
   "id": "4d32f2b3",
   "metadata": {},
   "outputs": [
    {
     "name": "stdout",
     "output_type": "stream",
     "text": [
      "tf.Tensor([0 2 4 6 8], shape=(5,), dtype=int32)\n"
     ]
    }
   ],
   "source": [
    "matrix = tf.range(start = 0 , limit = 10, delta = 2)\n",
    "print(matrix)"
   ]
  },
  {
   "cell_type": "code",
   "execution_count": 18,
   "id": "6b20ed37",
   "metadata": {},
   "outputs": [
    {
     "name": "stdout",
     "output_type": "stream",
     "text": [
      "tf.Tensor([10 10 10], shape=(3,), dtype=int32)\n"
     ]
    }
   ],
   "source": [
    "matrix1 = tf.constant([1, 2, 3])\n",
    "matrix2 = tf.constant([9, 8, 7])\n",
    "matrix3 = tf.add(matrix1, matrix2)\n",
    "print(matrix3)"
   ]
  },
  {
   "cell_type": "code",
   "execution_count": 19,
   "id": "7bb64c11",
   "metadata": {},
   "outputs": [
    {
     "name": "stdout",
     "output_type": "stream",
     "text": [
      "tf.Tensor([10 10 10], shape=(3,), dtype=int32)\n"
     ]
    }
   ],
   "source": [
    "matrix3 = matrix1 + matrix2\n",
    "print(matrix3)"
   ]
  },
  {
   "cell_type": "code",
   "execution_count": 23,
   "id": "593e3e5c",
   "metadata": {},
   "outputs": [
    {
     "name": "stdout",
     "output_type": "stream",
     "text": [
      "tf.Tensor([-8 -6 -4], shape=(3,), dtype=int32)\n"
     ]
    }
   ],
   "source": [
    "matrix1 = tf.constant([1, 2, 3])\n",
    "matrix2 = tf.constant([9, 8, 7])\n",
    "matrix3 = tf.subtract(matrix1, matrix2)\n",
    "print(matrix3)"
   ]
  },
  {
   "cell_type": "code",
   "execution_count": 25,
   "id": "7d8d77f7",
   "metadata": {},
   "outputs": [
    {
     "name": "stdout",
     "output_type": "stream",
     "text": [
      "tf.Tensor([ 9 16 21], shape=(3,), dtype=int32)\n"
     ]
    }
   ],
   "source": [
    "matrix1 = tf.constant([1, 2, 3])\n",
    "matrix2 = tf.constant([9, 8, 7])\n",
    "matrix3 = tf.multiply(matrix1, matrix2)\n",
    "print(matrix3)"
   ]
  },
  {
   "cell_type": "code",
   "execution_count": 26,
   "id": "6a7c0f06",
   "metadata": {},
   "outputs": [
    {
     "name": "stdout",
     "output_type": "stream",
     "text": [
      "tf.Tensor([0.11111111 0.25       0.42857143], shape=(3,), dtype=float64)\n"
     ]
    }
   ],
   "source": [
    "matrix1 = tf.constant([1, 2, 3])\n",
    "matrix2 = tf.constant([9, 8, 7])\n",
    "matrix3 = tf.divide(matrix1, matrix2)\n",
    "print(matrix3)"
   ]
  },
  {
   "cell_type": "code",
   "execution_count": null,
   "id": "bd5e83b4",
   "metadata": {},
   "outputs": [],
   "source": []
  }
 ],
 "metadata": {
  "kernelspec": {
   "display_name": "Python 3 (ipykernel)",
   "language": "python",
   "name": "python3"
  },
  "language_info": {
   "codemirror_mode": {
    "name": "ipython",
    "version": 3
   },
   "file_extension": ".py",
   "mimetype": "text/x-python",
   "name": "python",
   "nbconvert_exporter": "python",
   "pygments_lexer": "ipython3",
   "version": "3.9.13"
  }
 },
 "nbformat": 4,
 "nbformat_minor": 5
}
